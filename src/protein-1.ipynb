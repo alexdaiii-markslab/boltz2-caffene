{
 "cells": [
  {
   "cell_type": "code",
   "execution_count": 21,
   "id": "initial_id",
   "metadata": {
    "ExecuteTime": {
     "end_time": "2025-06-27T17:55:14.708138Z",
     "start_time": "2025-06-27T17:55:14.696870Z"
    },
    "collapsed": true
   },
   "outputs": [
    {
     "data": {
      "text/plain": [
       "5037"
      ]
     },
     "execution_count": 21,
     "metadata": {},
     "output_type": "execute_result"
    }
   ],
   "source": [
    "from src.utils import get_project_root\n",
    "\n",
    "with open(get_project_root() / \"inputs/ryr1_rabit.txt\", \"r\") as f:\n",
    "    # read the only line\n",
    "    line = f.readline()\n",
    "\n",
    "\n",
    "len(line)"
   ]
  },
  {
   "cell_type": "code",
   "execution_count": 43,
   "id": "6f185a3515da8532",
   "metadata": {
    "ExecuteTime": {
     "end_time": "2025-06-27T19:37:30.646568Z",
     "start_time": "2025-06-27T19:37:30.543996Z"
    }
   },
   "outputs": [
    {
     "name": "stdout",
     "output_type": "stream",
     "text": [
      "965\n",
      "{'cff': [1288, 4, 1568], 'atp': [1551, 1526]}\n"
     ]
    },
    {
     "ename": "IndexError",
     "evalue": "string index out of range",
     "output_type": "error",
     "traceback": [
      "\u001b[31m---------------------------------------------------------------------------\u001b[39m",
      "\u001b[31mIndexError\u001b[39m                                Traceback (most recent call last)",
      "\u001b[36mCell\u001b[39m\u001b[36m \u001b[39m\u001b[32mIn[43]\u001b[39m\u001b[32m, line 90\u001b[39m\n\u001b[32m     86\u001b[39m \u001b[38;5;28mprint\u001b[39m(\u001b[38;5;28mlen\u001b[39m(subseq_result.final_sequence))\n\u001b[32m     87\u001b[39m \u001b[38;5;28mprint\u001b[39m(subseq_result.new_pocket_location)\n\u001b[32m     89\u001b[39m pocket_aas_new = {\n\u001b[32m---> \u001b[39m\u001b[32m90\u001b[39m     key: [\u001b[43msubseq_result\u001b[49m\u001b[43m.\u001b[49m\u001b[43mfinal_sequence\u001b[49m\u001b[43m[\u001b[49m\u001b[43mp\u001b[49m\u001b[43m \u001b[49m\u001b[43m-\u001b[49m\u001b[43m \u001b[49m\u001b[32;43m1\u001b[39;49m\u001b[43m]\u001b[49m \u001b[38;5;28;01mfor\u001b[39;00m p \u001b[38;5;129;01min\u001b[39;00m locs]\n\u001b[32m     91\u001b[39m     \u001b[38;5;28;01mfor\u001b[39;00m key, locs \u001b[38;5;129;01min\u001b[39;00m subseq_result.new_pocket_location.items()\n\u001b[32m     92\u001b[39m }\n\u001b[32m     94\u001b[39m pocket_aas_old = {\n\u001b[32m     95\u001b[39m     key: [line[p - \u001b[32m1\u001b[39m] \u001b[38;5;28;01mfor\u001b[39;00m p \u001b[38;5;129;01min\u001b[39;00m locs]\n\u001b[32m     96\u001b[39m     \u001b[38;5;28;01mfor\u001b[39;00m key, locs \u001b[38;5;129;01min\u001b[39;00m pockets.items()\n\u001b[32m     97\u001b[39m }\n\u001b[32m    100\u001b[39m \u001b[38;5;28;01mfor\u001b[39;00m key \u001b[38;5;129;01min\u001b[39;00m pockets:\n",
      "\u001b[31mIndexError\u001b[39m: string index out of range"
     ]
    }
   ],
   "source": [
    "from typing import NamedTuple\n",
    "\n",
    "\n",
    "class SubseqResult(NamedTuple):\n",
    "    final_sequence: str\n",
    "    new_pocket_location: dict[str, list[int]]  # 1-based index in final_sequence\n",
    "\n",
    "\n",
    "pockets = {\n",
    "    \"cff\": [\n",
    "        4716,  # main pocket\n",
    "        3753,\n",
    "        4996,\n",
    "    ],\n",
    "    \"atp\": [4979, 4954],\n",
    "}\n",
    "\n",
    "\n",
    "def extract_and_remove_disordered(\n",
    "    sequence: str,\n",
    "    aa_start: int,\n",
    "    aa_end: int,\n",
    "    pocket_locations: dict[str, list[int]],\n",
    "    remove_sequences: list[tuple[int, int]] = None,\n",
    ") -> SubseqResult:\n",
    "    seq_len = len(sequence)\n",
    "    aa_start_idx = max(aa_start - 1, 0)\n",
    "    aa_end_idx = min(aa_end, seq_len)\n",
    "\n",
    "    # Get the initial substring\n",
    "    sub_seq = sequence[aa_start_idx:aa_end_idx]\n",
    "\n",
    "    offset = aa_start - 1\n",
    "\n",
    "    if remove_sequences is None:\n",
    "        remove_sequences = []\n",
    "\n",
    "    # Collect all indices to remove (relative to sub_seq)\n",
    "    remove_indices = set()\n",
    "    for start, end in remove_sequences:\n",
    "        rel_start = max(start - offset, 0)\n",
    "        rel_end = min(end - offset, len(sub_seq))\n",
    "        remove_indices.update(range(rel_start, rel_end + 1))\n",
    "\n",
    "    # Build the new sequence\n",
    "    new_seq = \"\".join(aa for i, aa in enumerate(sub_seq) if i not in remove_indices)\n",
    "\n",
    "    def find_new_pocket_location(\n",
    "        pocket_loc: int,\n",
    "    ):\n",
    "        # find all remove_sequences before the pocket_loc\n",
    "        offset_pocket = offset\n",
    "        for start, end in remove_sequences:\n",
    "            if end < pocket_loc:\n",
    "                offset_pocket -= end - start\n",
    "\n",
    "        return pocket_loc - offset_pocket\n",
    "\n",
    "    # Adjust pocket locations based on the new sequence\n",
    "    new_pockets = {\n",
    "        key: [find_new_pocket_location(p) for p in locs]\n",
    "        for key, locs in pocket_locations.items()\n",
    "    }\n",
    "\n",
    "    return SubseqResult(new_seq, new_pockets)\n",
    "\n",
    "\n",
    "disordered_regions = [\n",
    "    (4255, 4539),\n",
    "    (4588, 4625),\n",
    "]\n",
    "\n",
    "subseq_result = extract_and_remove_disordered(\n",
    "    sequence=line,\n",
    "    aa_start=3750,\n",
    "    aa_end=5037,\n",
    "    pocket_locations=pockets,\n",
    "    remove_sequences=disordered_regions,\n",
    ")\n",
    "\n",
    "print(len(subseq_result.final_sequence))\n",
    "print(subseq_result.new_pocket_location)\n",
    "\n",
    "pocket_aas_new = {\n",
    "    key: [subseq_result.final_sequence[p - 1] for p in locs]\n",
    "    for key, locs in subseq_result.new_pocket_location.items()\n",
    "}\n",
    "\n",
    "pocket_aas_old = {key: [line[p - 1] for p in locs] for key, locs in pockets.items()}\n",
    "\n",
    "\n",
    "for key in pockets:\n",
    "    pocket_for_old = pocket_aas_old[key]\n",
    "    pocket_for_new = pocket_aas_new[key]\n",
    "\n",
    "    print(\n",
    "        f\"Pocket {key} old: {pocket_for_old} new: {pocket_for_new}. \"\n",
    "        f\"Match: {pocket_for_old == pocket_for_new}. \"\n",
    "        f\"Locations old: {pockets[key]} new: {subseq_result.new_pocket_location[key]}\"\n",
    "    )"
   ]
  },
  {
   "cell_type": "code",
   "execution_count": null,
   "id": "e753dff3c3b4b029",
   "metadata": {
    "ExecuteTime": {
     "end_time": "2025-06-27T17:55:14.858285Z",
     "start_time": "2025-06-27T17:55:14.855073Z"
    }
   },
   "outputs": [],
   "source": []
  },
  {
   "cell_type": "code",
   "execution_count": 23,
   "id": "7b37e2968ccf6197",
   "metadata": {
    "ExecuteTime": {
     "end_time": "2025-06-27T17:55:14.917916Z",
     "start_time": "2025-06-27T17:55:14.911610Z"
    }
   },
   "outputs": [
    {
     "data": {
      "text/plain": [
       "1288"
      ]
     },
     "execution_count": 23,
     "metadata": {},
     "output_type": "execute_result"
    }
   ],
   "source": [
    "len(subseq_result.final_sequence)"
   ]
  },
  {
   "cell_type": "code",
   "execution_count": 24,
   "id": "6e2873ca645e22c4",
   "metadata": {
    "ExecuteTime": {
     "end_time": "2025-06-27T17:55:14.995093Z",
     "start_time": "2025-06-27T17:55:14.987936Z"
    }
   },
   "outputs": [
    {
     "name": "stdout",
     "output_type": "stream",
     "text": [
      "ryr1_rabit_section.txt already exists\n"
     ]
    }
   ],
   "source": [
    "# remove output if exist\n",
    "import os\n",
    "\n",
    "output_file = get_project_root() / \"inputs/ryr1_rabit_section.txt\"\n",
    "\n",
    "\n",
    "if output_file.exists():\n",
    "    print(f\"{output_file.name} already exists\")\n",
    "    os.remove(output_file)\n",
    "\n",
    "with open(output_file, \"w\") as f:\n",
    "    f.write(subseq_result.final_sequence)"
   ]
  },
  {
   "cell_type": "code",
   "execution_count": 31,
   "id": "58d5644508ac4e10",
   "metadata": {
    "ExecuteTime": {
     "end_time": "2025-06-27T18:45:59.076503Z",
     "start_time": "2025-06-27T18:45:59.061217Z"
    }
   },
   "outputs": [],
   "source": [
    "ryr1_rabit_base = {\n",
    "    \"sequences\": [\n",
    "        {\n",
    "            \"protein\": {\n",
    "                \"id\": \"A\",\n",
    "                \"sequence\": subseq_result.final_sequence,\n",
    "            }\n",
    "        },\n",
    "        {\"ligand\": {\"id\": \"B\", \"ccd\": \"CFF\"}},\n",
    "        {\"ligand\": {\"id\": \"C\", \"ccd\": \"ATP\"}},\n",
    "    ],\n",
    "    \"constraints\": [\n",
    "        {\n",
    "            \"pocket\": {\n",
    "                \"binder\": \"B\",\n",
    "                \"contacts\": [\n",
    "                    [\"A\", p] for p in subseq_result.new_pocket_location[\"cff\"]\n",
    "                ],\n",
    "                \"max_distance\": 3.2,  # Angstroms\n",
    "            },\n",
    "        },\n",
    "        {\n",
    "            \"pocket\": {\n",
    "                \"binder\": \"C\",\n",
    "                \"contacts\": [\n",
    "                    [\"A\", p] for p in subseq_result.new_pocket_location[\"atp\"]\n",
    "                ],\n",
    "                \"max_distance\": 5,\n",
    "            }\n",
    "        },\n",
    "    ],\n",
    "    \"properties\": [{\"affinity\": {\"binder\": \"B\"}}],\n",
    "}\n",
    "\n",
    "import yaml\n",
    "\n",
    "with open(get_project_root() / \"inputs/ryr1_rabit_base.yaml\", \"w\") as f:\n",
    "    yaml.dump(ryr1_rabit_base, f, default_flow_style=False)"
   ]
  },
  {
   "cell_type": "code",
   "execution_count": null,
   "id": "d9bff84bec3891d8",
   "metadata": {
    "ExecuteTime": {
     "end_time": "2025-06-27T17:55:15.107117Z",
     "start_time": "2025-06-27T17:55:15.103685Z"
    }
   },
   "outputs": [],
   "source": []
  }
 ],
 "metadata": {
  "kernelspec": {
   "display_name": "Python 3",
   "language": "python",
   "name": "python3"
  },
  "language_info": {
   "codemirror_mode": {
    "name": "ipython",
    "version": 2
   },
   "file_extension": ".py",
   "mimetype": "text/x-python",
   "name": "python",
   "nbconvert_exporter": "python",
   "pygments_lexer": "ipython2",
   "version": "2.7.6"
  }
 },
 "nbformat": 4,
 "nbformat_minor": 5
}
