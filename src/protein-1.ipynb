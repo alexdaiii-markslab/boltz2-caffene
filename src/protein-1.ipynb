{
 "cells": [
  {
   "cell_type": "code",
   "id": "initial_id",
   "metadata": {
    "collapsed": true,
    "ExecuteTime": {
     "end_time": "2025-06-27T16:31:04.585833Z",
     "start_time": "2025-06-27T16:31:04.576811Z"
    }
   },
   "source": [
    "from src.utils import get_project_root\n",
    "\n",
    "with open(get_project_root() / \"inputs/ryr1_rabit.txt\", \"r\") as f:\n",
    "    # read the only line\n",
    "    line = f.readline()\n",
    "\n",
    "\n",
    "len(line)"
   ],
   "outputs": [
    {
     "data": {
      "text/plain": [
       "5037"
      ]
     },
     "execution_count": 11,
     "metadata": {},
     "output_type": "execute_result"
    }
   ],
   "execution_count": 11
  },
  {
   "cell_type": "code",
   "id": "6f185a3515da8532",
   "metadata": {
    "ExecuteTime": {
     "end_time": "2025-06-27T16:31:04.660819Z",
     "start_time": "2025-06-27T16:31:04.648606Z"
    }
   },
   "source": [
    "from typing import NamedTuple\n",
    "\n",
    "\n",
    "class SubseqResult(NamedTuple):\n",
    "    final_sequence: str\n",
    "    new_pocket_location: list[int]  # 1-based index in final_sequence\n",
    "\n",
    "\n",
    "pockets = [\n",
    "    4716, # main pocket\n",
    "    # 3753,\n",
    "    # 4996,\n",
    "]\n",
    "\n",
    "def extract_and_remove_disordered(\n",
    "    sequence: str,\n",
    "    aa_start: int,\n",
    "    aa_end: int,\n",
    "    pocket_locations: list[int],\n",
    ") -> SubseqResult:\n",
    "    seq_len = len(sequence)\n",
    "    aa_start_idx = max(aa_start - 1, 0)\n",
    "    aa_end_idx = min(aa_end, seq_len)\n",
    "\n",
    "    # Get the initial substring\n",
    "    sub_seq = sequence[aa_start_idx:aa_end_idx]\n",
    "\n",
    "    offset = aa_start - 1\n",
    "\n",
    "    new_pockets = [\n",
    "        p - offset\n",
    "        for p in pocket_locations\n",
    "    ]\n",
    "\n",
    "\n",
    "    return SubseqResult(sub_seq, new_pockets)\n",
    "\n",
    "\n",
    "# disordered_regions = [\n",
    "#     (4255, 4539),\n",
    "#     (4588, 4625)\n",
    "# ]\n",
    "\n",
    "subseq_result = extract_and_remove_disordered(\n",
    "    sequence=line,\n",
    "    aa_start=3750,\n",
    "    aa_end=5037,\n",
    "    pocket_locations=pockets,\n",
    ")\n",
    "\n",
    "pocket_aas_new = [\n",
    "    subseq_result.final_sequence[p - 1] for p in subseq_result.new_pocket_location\n",
    "]\n",
    "\n",
    "pocket_aas_old = [\n",
    "    line[p - 1] for p in pockets\n",
    "]\n",
    "\n",
    "\n",
    "print(\n",
    "    f\"AA pocket: ({pockets}) {pocket_aas_old}. New pocket ({subseq_result.new_pocket_location}): {pocket_aas_new}\"\n",
    ")"
   ],
   "outputs": [
    {
     "name": "stdout",
     "output_type": "stream",
     "text": [
      "AA pocket: ([4716]) ['W']. New pocket ([967]): ['W']\n"
     ]
    }
   ],
   "execution_count": 12
  },
  {
   "cell_type": "code",
   "id": "e753dff3c3b4b029",
   "metadata": {
    "ExecuteTime": {
     "end_time": "2025-06-27T16:31:04.739580Z",
     "start_time": "2025-06-27T16:31:04.736088Z"
    }
   },
   "source": [],
   "outputs": [],
   "execution_count": null
  },
  {
   "cell_type": "code",
   "id": "7b37e2968ccf6197",
   "metadata": {
    "ExecuteTime": {
     "end_time": "2025-06-27T16:31:04.800915Z",
     "start_time": "2025-06-27T16:31:04.794648Z"
    }
   },
   "source": [
    "len(subseq_result.final_sequence)"
   ],
   "outputs": [
    {
     "data": {
      "text/plain": [
       "1288"
      ]
     },
     "execution_count": 13,
     "metadata": {},
     "output_type": "execute_result"
    }
   ],
   "execution_count": 13
  },
  {
   "cell_type": "code",
   "id": "6e2873ca645e22c4",
   "metadata": {
    "ExecuteTime": {
     "end_time": "2025-06-27T16:31:04.870936Z",
     "start_time": "2025-06-27T16:31:04.863577Z"
    }
   },
   "source": [
    "# remove output if exist\n",
    "import os\n",
    "\n",
    "output_file = get_project_root() / \"inputs/ryr1_rabit_section.txt\"\n",
    "\n",
    "\n",
    "if output_file.exists():\n",
    "    print(f\"{output_file.name} already exists\")\n",
    "    os.remove(output_file)\n",
    "\n",
    "with open(output_file, \"w\") as f:\n",
    "    f.write(subseq_result.final_sequence)"
   ],
   "outputs": [
    {
     "name": "stdout",
     "output_type": "stream",
     "text": [
      "ryr1_rabit_section.txt already exists\n"
     ]
    }
   ],
   "execution_count": 14
  },
  {
   "cell_type": "code",
   "id": "58d5644508ac4e10",
   "metadata": {
    "ExecuteTime": {
     "end_time": "2025-06-27T16:31:04.934517Z",
     "start_time": "2025-06-27T16:31:04.922295Z"
    }
   },
   "source": [
    "ryr1_rabit_base = {\n",
    "    'sequences': [\n",
    "        {\n",
    "            \"protein\": {\n",
    "                \"id\": \"A\",\n",
    "                \"sequence\": subseq_result.final_sequence,\n",
    "            }\n",
    "        },\n",
    "        {\n",
    "            \"ligand\": {\n",
    "                \"id\": \"B\",\n",
    "                \"ccd\": \"CFF\"\n",
    "            }\n",
    "        }\n",
    "    ],\n",
    "    \"constraints\": [\n",
    "        {\n",
    "            \"pocket\": {\n",
    "                \"binder\": \"B\",\n",
    "                \"contacts\": [\n",
    "                    [\"A\", p] for p in subseq_result.new_pocket_location\n",
    "                ],\n",
    "                \"max_distance\": 10.0, # Angstroms\n",
    "            }\n",
    "        }\n",
    "    ],\n",
    "    \"properties\": [\n",
    "        {\n",
    "            \"affinity\": {\n",
    "                \"binder\": \"B\"\n",
    "            }\n",
    "        }\n",
    "    ]\n",
    "}\n",
    "\n",
    "import yaml\n",
    "\n",
    "with open(get_project_root() / \"inputs/ryr1_rabit_base.yaml\", \"w\") as f:\n",
    "    yaml.dump(ryr1_rabit_base, f, default_flow_style=False)"
   ],
   "outputs": [],
   "execution_count": 15
  },
  {
   "metadata": {
    "ExecuteTime": {
     "end_time": "2025-06-27T16:31:04.980300Z",
     "start_time": "2025-06-27T16:31:04.977039Z"
    }
   },
   "cell_type": "code",
   "source": "",
   "id": "d9bff84bec3891d8",
   "outputs": [],
   "execution_count": null
  }
 ],
 "metadata": {
  "kernelspec": {
   "display_name": "Python 3",
   "language": "python",
   "name": "python3"
  },
  "language_info": {
   "codemirror_mode": {
    "name": "ipython",
    "version": 2
   },
   "file_extension": ".py",
   "mimetype": "text/x-python",
   "name": "python",
   "nbconvert_exporter": "python",
   "pygments_lexer": "ipython2",
   "version": "2.7.6"
  }
 },
 "nbformat": 4,
 "nbformat_minor": 5
}
