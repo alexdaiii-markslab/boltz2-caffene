{
 "cells": [
  {
   "cell_type": "code",
   "id": "initial_id",
   "metadata": {
    "collapsed": true,
    "ExecuteTime": {
     "end_time": "2025-07-07T17:54:18.546839Z",
     "start_time": "2025-07-07T17:54:18.537484Z"
    }
   },
   "source": [
    "from src.substring import substring_and_remap\n",
    "from src.utils import get_project_root\n",
    "\n",
    "with open(get_project_root() / \"inputs/ryr1_rabit.txt\", \"r\") as f:\n",
    "    # read the only line\n",
    "    line = f.readline()\n",
    "\n",
    "len(line)"
   ],
   "outputs": [
    {
     "data": {
      "text/plain": [
       "5037"
      ]
     },
     "execution_count": 1,
     "metadata": {},
     "output_type": "execute_result"
    }
   ],
   "execution_count": 1
  },
  {
   "cell_type": "code",
   "id": "6f185a3515da8532",
   "metadata": {
    "ExecuteTime": {
     "end_time": "2025-07-07T18:21:52.109745Z",
     "start_time": "2025-07-07T18:21:52.091978Z"
    }
   },
   "source": [
    "from typing import NamedTuple\n",
    "\n",
    "\n",
    "class SubseqResult(NamedTuple):\n",
    "    final_sequence: str\n",
    "    new_pocket_location: list[int]  # 1-based index in final_sequence\n",
    "\n",
    "\n",
    "pockets = {\n",
    "    \"cff\": [\n",
    "        4716,  # main pocket\n",
    "        3753,\n",
    "        4996,\n",
    "    ],\n",
    "    # \"atp\": [4979, 4954],\n",
    "}\n",
    "\n",
    "\n",
    "def extract_and_remove_disordered(\n",
    "        sequence: str,\n",
    "        aa_start: int,\n",
    "        aa_end: int,\n",
    "        pocket_locations: list[int],\n",
    "        remove_sequences: list[tuple[int, int]] = None,\n",
    ") -> SubseqResult:\n",
    "    # covnert to standard indicies\n",
    "    aa_start -= 1\n",
    "    aa_end -= 1\n",
    "\n",
    "    if remove_sequences is None:\n",
    "        remove_sequences = []\n",
    "\n",
    "    removed_remap = [\n",
    "        (r1 - 1, r2 - 1) for r1, r2 in remove_sequences\n",
    "    ]\n",
    "\n",
    "    # for the removed regions - replace them with \"-\"\n",
    "    # for r1, r2 in removed_remap:\n",
    "    #     sequence = sequence[:r1] + \"-\" * (r2 - r1 + 1) + sequence[r2 + 1:]\n",
    "\n",
    "    pockets_remap = [\n",
    "        locs - 1 for locs in pocket_locations\n",
    "    ]\n",
    "\n",
    "    new_seq, new_pockets = substring_and_remap(\n",
    "        s=sequence,\n",
    "        s_window=(aa_start, aa_end),\n",
    "        remove_regions=removed_remap,\n",
    "        pointers=pockets_remap,\n",
    "    )\n",
    "\n",
    "    return SubseqResult(new_seq, new_pockets)\n",
    "\n",
    "\n",
    "# disordered_regions = [\n",
    "#     (4255, 4539),\n",
    "#     (4588, 4625),\n",
    "# ]\n",
    "\n",
    "\n",
    "atp_binding_sites = [\n",
    "    (4960, 4980),\n",
    "    (4250, 4540)\n",
    "]\n",
    "\n",
    "subseq_result = extract_and_remove_disordered(\n",
    "    sequence=line,\n",
    "    aa_start=3750,\n",
    "    aa_end=5037,\n",
    "    pocket_locations=pockets[\"cff\"],\n",
    "    remove_sequences=atp_binding_sites,\n",
    ")\n",
    "\n",
    "subseq_result"
   ],
   "outputs": [
    {
     "data": {
      "text/plain": [
       "SubseqResult(final_sequence='EVSFEEKEMEKQRLLYQQSRLHTRGAAEMVLQMISACKGETGAMVSSTLKLGISILNGGNAEVQQKMLDYLKDKKEVGFFQSIQALMQTCSVLDLNAFERQNKAEGLGMVNEDGTVINRQNGEKVMADDEFTQDLFRFLQLLCEGHNNDFQNYLRTQTGNTTTINIIICTVDYLLRLQESISDFYWYYSGKDVIEEQGKRNFSKAMSVAKQVFNSLTEYIQGPCTGNQQSLAHSRLWDAVVGFLHVFAHMMMKLAQDSSQIELLKELLDLQKDMVVMLLSLLEGNVVNGMIARQMVDMLVESSSNVEMILKFFDMFLKLKDIVGSEAFQDYVTDPRGLISKKDFQKAMDSQKQFTGPEIQFLLSCSEADENEMINFEEFANRFQEPARDIGFNVAVLLTNLSEHVPHDPRLRNFLELAESILEYFRPYLGRIEIMGASRRIERIYFEISETNRAQWEMPQVKESKRQFIFDVVNEGGEAEKMELFVSFCEDTIFEMQIAAWGELEVQRVKFLNYLSRNFYTLRFLALFLAFAINFILLFYKVSDSPPGEDDMEGSAAGDLAGAGSGGGSGWGSGAGEEAEGDEDENMVYYFLEESTGYMEPALWCLSLLHTLVAFLCIIGYNCLKVPLVIFKREKELARKLEFDGLYITEQPGDDDVKGQWDRLVLNTPSFPSNYWDKFVKRKVLDKHGDIFGRERIAELLGMDLASLEITAHNERKPDPPPGLLTWLMSIDVKYQIWKFGVIFTDNSFLYLGWYMVMSLLGHYNNFFFAAHLLDIAMGVKTLRTILSSVTHNGKQLVMTVGLLAVVVYLYTVVAFNFFRKFYNKSEDEDEPDMKCDDMMTCYLFHMYVGVRAGGGIGDEIEDPAGDEYELYRVVFDITFFFFVIVILLAIIQGLIIDAFGELRDQQEQVKEDMETKCFEEHNLANYMFFLMYLINKDETEHTGQESYVWKMYQERCWDFFPAGDCFRKQYEDQLS', new_pocket_location=[675, 3, 934])"
      ]
     },
     "execution_count": 7,
     "metadata": {},
     "output_type": "execute_result"
    }
   ],
   "execution_count": 7
  },
  {
   "cell_type": "code",
   "id": "7b37e2968ccf6197",
   "metadata": {
    "ExecuteTime": {
     "end_time": "2025-07-07T18:21:54.925119Z",
     "start_time": "2025-07-07T18:21:54.917451Z"
    }
   },
   "source": [
    "len(subseq_result.final_sequence)"
   ],
   "outputs": [
    {
     "data": {
      "text/plain": [
       "976"
      ]
     },
     "execution_count": 8,
     "metadata": {},
     "output_type": "execute_result"
    }
   ],
   "execution_count": 8
  },
  {
   "cell_type": "code",
   "id": "6e2873ca645e22c4",
   "metadata": {
    "ExecuteTime": {
     "end_time": "2025-07-07T18:22:02.915158Z",
     "start_time": "2025-07-07T18:22:02.907305Z"
    }
   },
   "source": [
    "# remove output if exist\n",
    "import os\n",
    "\n",
    "output_file = get_project_root() / \"inputs/ryr1_rabit_atp_pocket.txt\"\n",
    "\n",
    "if output_file.exists():\n",
    "    print(f\"{output_file.name} already exists\")\n",
    "    os.remove(output_file)\n",
    "\n",
    "with open(output_file, \"w\") as f:\n",
    "    f.write(subseq_result.final_sequence)"
   ],
   "outputs": [],
   "execution_count": 9
  },
  {
   "cell_type": "code",
   "id": "58d5644508ac4e10",
   "metadata": {
    "ExecuteTime": {
     "end_time": "2025-07-07T18:22:43.248886Z",
     "start_time": "2025-07-07T18:22:43.233210Z"
    }
   },
   "source": [
    "ryr1_rabit_base = {\n",
    "    \"sequences\": [\n",
    "        {\n",
    "            \"protein\": {\n",
    "                \"id\": \"A\",\n",
    "                \"sequence\": subseq_result.final_sequence,\n",
    "                \"msa\": \"inputs/msa/ryr1_rabit.fasta\",\n",
    "            }\n",
    "        },\n",
    "        {\"ligand\": {\"id\": \"B\", \"ccd\": \"CFF\"}},\n",
    "        # {\"ligand\": {\"id\": \"C\", \"ccd\": \"ATP\"}},\n",
    "    ],\n",
    "    \"constraints\": [\n",
    "        {\n",
    "            \"pocket\": {\n",
    "                \"binder\": \"B\",\n",
    "                \"contacts\": [\n",
    "                    [\"A\", p] for p in subseq_result.new_pocket_location\n",
    "                ],\n",
    "                \"max_distance\": 5,  # Angstroms\n",
    "            },\n",
    "        },\n",
    "        # {\n",
    "        #     \"pocket\": {\n",
    "        #         \"binder\": \"C\",\n",
    "        #         \"contacts\": [\n",
    "        #             [\"A\", p] for p in subseq_result.new_pocket_location[\"atp\"]\n",
    "        #         ],\n",
    "        #         \"max_distance\": 5,\n",
    "        #     }\n",
    "        # },\n",
    "    ],\n",
    "    \"properties\": [{\"affinity\": {\"binder\": \"B\"}}],\n",
    "}\n",
    "\n",
    "import yaml\n",
    "\n",
    "with open(get_project_root() / \"inputs/ryr1_rabit_atp_pocket.yaml\",\n",
    "          \"w\") as f:\n",
    "    yaml.dump(ryr1_rabit_base, f, default_flow_style=False)"
   ],
   "outputs": [],
   "execution_count": 11
  },
  {
   "cell_type": "code",
   "execution_count": null,
   "id": "d9bff84bec3891d8",
   "metadata": {
    "ExecuteTime": {
     "end_time": "2025-06-27T17:55:15.107117Z",
     "start_time": "2025-06-27T17:55:15.103685Z"
    }
   },
   "outputs": [],
   "source": []
  }
 ],
 "metadata": {
  "kernelspec": {
   "display_name": "Python 3",
   "language": "python",
   "name": "python3"
  },
  "language_info": {
   "codemirror_mode": {
    "name": "ipython",
    "version": 2
   },
   "file_extension": ".py",
   "mimetype": "text/x-python",
   "name": "python",
   "nbconvert_exporter": "python",
   "pygments_lexer": "ipython2",
   "version": "2.7.6"
  }
 },
 "nbformat": 4,
 "nbformat_minor": 5
}
