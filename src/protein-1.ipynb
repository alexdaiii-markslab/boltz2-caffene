{
 "cells": [
  {
   "cell_type": "code",
   "id": "initial_id",
   "metadata": {
    "collapsed": true,
    "ExecuteTime": {
     "end_time": "2025-06-26T17:37:10.632469Z",
     "start_time": "2025-06-26T17:37:10.621942Z"
    }
   },
   "source": [
    "from src.utils import get_project_root\n",
    "\n",
    "with open(get_project_root() / \"inputs/ryr1_rabit.txt\", \"r\") as f:\n",
    "    # read the only line\n",
    "    line = f.readline()\n",
    "\n",
    "\n",
    "len(line)"
   ],
   "outputs": [
    {
     "data": {
      "text/plain": [
       "5037"
      ]
     },
     "execution_count": 20,
     "metadata": {},
     "output_type": "execute_result"
    }
   ],
   "execution_count": 20
  },
  {
   "metadata": {
    "ExecuteTime": {
     "end_time": "2025-06-26T17:37:39.459923Z",
     "start_time": "2025-06-26T17:37:39.441819Z"
    }
   },
   "cell_type": "code",
   "source": [
    "\n",
    "from typing import NamedTuple\n",
    "\n",
    "\n",
    "class SubseqResult(NamedTuple):\n",
    "    final_sequence: str\n",
    "    new_pocket_location: int  # 1-based index in final_sequence\n",
    "\n",
    "def extract_and_remove_disordered(sequence: str, aa_start: int, aa_end: int, pocket_location: int, disordered_regions: list[tuple[int, int]]) -> SubseqResult:\n",
    "    seq_len = len(sequence)\n",
    "    aa_start_idx = max(aa_start - 1, 0)\n",
    "    aa_end_idx = min(aa_end, seq_len)\n",
    "\n",
    "    # Get the initial substring\n",
    "    sub_seq = sequence[aa_start_idx:aa_end_idx]\n",
    "    sub_len = len(sub_seq)\n",
    "\n",
    "    # Build mask: True = keep, False = remove (relative to the substring)\n",
    "    mask = [True] * sub_len\n",
    "\n",
    "    for dr_start, dr_end in disordered_regions:\n",
    "        dr_start_in_sub = max(dr_start, aa_start) - aa_start\n",
    "        dr_end_in_sub = min(dr_end, aa_end) - aa_start\n",
    "        for i in range(dr_start_in_sub, dr_end_in_sub + 1):\n",
    "            if 0 <= i < sub_len:\n",
    "                mask[i] = False\n",
    "\n",
    "    # Build final sequence and track mapping of original indices to new indices\n",
    "    final_seq_chars = []\n",
    "    orig_to_new_index = {}  # Maps original sub_seq 1-based idx to new 1-based idx, if still present\n",
    "\n",
    "    new_idx = 1\n",
    "    for orig_idx, (c, keep) in enumerate(zip(sub_seq, mask), start=1):\n",
    "        if keep:\n",
    "            final_seq_chars.append(c)\n",
    "            orig_to_new_index[orig_idx] = new_idx\n",
    "            new_idx += 1\n",
    "\n",
    "    final_sequence = ''.join(final_seq_chars)\n",
    "\n",
    "    # Calculate new pocket location (if pocket location is within the kept region)\n",
    "    pocket_idx_in_sub = pocket_location - aa_start + 1  # 1-based index in sub_seq\n",
    "    new_pocket_location = orig_to_new_index.get(pocket_idx_in_sub, None)\n",
    "\n",
    "    return SubseqResult(final_sequence, new_pocket_location)\n",
    "\n",
    "\n",
    "disordered_regions = [\n",
    "    (4255, 4539),\n",
    "    (4588, 4625)\n",
    "]\n",
    "\n",
    "subseq_result = extract_and_remove_disordered(\n",
    "    sequence=line,\n",
    "    aa_start=3750,\n",
    "    aa_end=5037,\n",
    "    pocket_location=4716,\n",
    "    disordered_regions=disordered_regions\n",
    ")\n",
    "\n",
    "\n",
    "print(f\"AA pocket: {line[pocket_location - 1]}. New pocket ({subseq_result.new_pocket_location}): {subseq_result.final_sequence[subseq_result.new_pocket_location - 1]}\")"
   ],
   "id": "6f185a3515da8532",
   "outputs": [
    {
     "name": "stdout",
     "output_type": "stream",
     "text": [
      "AA pocket: W. New pocket (644): W\n"
     ]
    }
   ],
   "execution_count": 24
  },
  {
   "metadata": {
    "ExecuteTime": {
     "end_time": "2025-06-26T17:37:55.346088Z",
     "start_time": "2025-06-26T17:37:55.340467Z"
    }
   },
   "cell_type": "code",
   "source": "len(subseq_result.final_sequence)",
   "id": "7b37e2968ccf6197",
   "outputs": [
    {
     "data": {
      "text/plain": [
       "965"
      ]
     },
     "execution_count": 26,
     "metadata": {},
     "output_type": "execute_result"
    }
   ],
   "execution_count": 26
  },
  {
   "metadata": {
    "ExecuteTime": {
     "end_time": "2025-06-26T17:38:10.933221Z",
     "start_time": "2025-06-26T17:38:10.924760Z"
    }
   },
   "cell_type": "code",
   "source": [
    "# remove output if exist\n",
    "import os\n",
    "\n",
    "output_file = get_project_root() / \"inputs/ryr1_rabit_section.txt\"\n",
    "\n",
    "\n",
    "if output_file.exists():\n",
    "    print(f\"{output_file.name} already exists\")\n",
    "    os.remove(output_file)\n",
    "\n",
    "with open(output_file, \"w\") as f:\n",
    "    f.write(subseq_result.final_sequence)"
   ],
   "id": "6e2873ca645e22c4",
   "outputs": [
    {
     "name": "stdout",
     "output_type": "stream",
     "text": [
      "ryr1_rabit_section.txt already exists\n"
     ]
    }
   ],
   "execution_count": 27
  },
  {
   "metadata": {},
   "cell_type": "code",
   "outputs": [],
   "execution_count": null,
   "source": "",
   "id": "58d5644508ac4e10"
  }
 ],
 "metadata": {
  "kernelspec": {
   "display_name": "Python 3",
   "language": "python",
   "name": "python3"
  },
  "language_info": {
   "codemirror_mode": {
    "name": "ipython",
    "version": 2
   },
   "file_extension": ".py",
   "mimetype": "text/x-python",
   "name": "python",
   "nbconvert_exporter": "python",
   "pygments_lexer": "ipython2",
   "version": "2.7.6"
  }
 },
 "nbformat": 4,
 "nbformat_minor": 5
}
