{
 "cells": [
  {
   "cell_type": "code",
   "id": "initial_id",
   "metadata": {
    "collapsed": true,
    "ExecuteTime": {
     "end_time": "2025-06-27T17:55:14.708138Z",
     "start_time": "2025-06-27T17:55:14.696870Z"
    }
   },
   "source": [
    "from src.utils import get_project_root\n",
    "\n",
    "with open(get_project_root() / \"inputs/ryr1_rabit.txt\", \"r\") as f:\n",
    "    # read the only line\n",
    "    line = f.readline()\n",
    "\n",
    "\n",
    "len(line)"
   ],
   "outputs": [
    {
     "data": {
      "text/plain": [
       "5037"
      ]
     },
     "execution_count": 21,
     "metadata": {},
     "output_type": "execute_result"
    }
   ],
   "execution_count": 21
  },
  {
   "cell_type": "code",
   "id": "6f185a3515da8532",
   "metadata": {
    "ExecuteTime": {
     "end_time": "2025-06-27T18:45:03.847303Z",
     "start_time": "2025-06-27T18:45:03.829930Z"
    }
   },
   "source": [
    "from typing import NamedTuple\n",
    "\n",
    "\n",
    "class SubseqResult(NamedTuple):\n",
    "    final_sequence: str\n",
    "    new_pocket_location: dict[str, list[int]]  # 1-based index in final_sequence\n",
    "\n",
    "\n",
    "pockets = {\n",
    "    \"cff\": [\n",
    "        4716,  # main pocket\n",
    "        3753,\n",
    "        4996,\n",
    "    ],\n",
    "    \"atp\": [\n",
    "        4979,\n",
    "        4954\n",
    "    ]\n",
    "}\n",
    "\n",
    "def extract_and_remove_disordered(\n",
    "    sequence: str,\n",
    "    aa_start: int,\n",
    "    aa_end: int,\n",
    "    pocket_locations: dict[str, list[int]],\n",
    ") -> SubseqResult:\n",
    "    seq_len = len(sequence)\n",
    "    aa_start_idx = max(aa_start - 1, 0)\n",
    "    aa_end_idx = min(aa_end, seq_len)\n",
    "\n",
    "    # Get the initial substring\n",
    "    sub_seq = sequence[aa_start_idx:aa_end_idx]\n",
    "\n",
    "    offset = aa_start - 1\n",
    "\n",
    "    new_pockets = {\n",
    "        key: [p - offset for p in locs]\n",
    "        for key, locs in pocket_locations.items()\n",
    "    }\n",
    "\n",
    "\n",
    "    return SubseqResult(sub_seq, new_pockets)\n",
    "\n",
    "\n",
    "# disordered_regions = [\n",
    "#     (4255, 4539),\n",
    "#     (4588, 4625)\n",
    "# ]\n",
    "\n",
    "subseq_result = extract_and_remove_disordered(\n",
    "    sequence=line,\n",
    "    aa_start=3750,\n",
    "    aa_end=5037,\n",
    "    pocket_locations=pockets,\n",
    ")\n",
    "\n",
    "pocket_aas_new = {\n",
    "    key: [subseq_result.final_sequence[p - 1] for p in locs]\n",
    "    for key, locs in subseq_result.new_pocket_location.items()\n",
    "}\n",
    "\n",
    "pocket_aas_old = {\n",
    "    key: [line[p - 1] for p in locs]\n",
    "    for key, locs in pockets.items()\n",
    "}\n",
    "\n",
    "\n",
    "for key in pockets:\n",
    "    pocket_for_old = pocket_aas_old[key]\n",
    "    pocket_for_new = pocket_aas_new[key]\n",
    "\n",
    "    print(\n",
    "        f\"Pocket {key} old: {pocket_for_old} new: {pocket_for_new}. \"\n",
    "        f\"Match: {pocket_for_old == pocket_for_new}. \"\n",
    "        f\"Locations old: {pockets[key]} new: {subseq_result.new_pocket_location[key]}\"\n",
    "    )"
   ],
   "outputs": [
    {
     "name": "stdout",
     "output_type": "stream",
     "text": [
      "Pocket cff old: ['W', 'F', 'I'] new: ['W', 'F', 'I']. Match: True. Locations old: [4716, 3753, 4996] new: [967, 4, 1247]\n",
      "Pocket atp old: ['T', 'M'] new: ['T', 'M']. Match: True. Locations old: [4979, 4954] new: [1230, 1205]\n"
     ]
    }
   ],
   "execution_count": 30
  },
  {
   "cell_type": "code",
   "id": "e753dff3c3b4b029",
   "metadata": {
    "ExecuteTime": {
     "end_time": "2025-06-27T17:55:14.858285Z",
     "start_time": "2025-06-27T17:55:14.855073Z"
    }
   },
   "source": [],
   "outputs": [],
   "execution_count": null
  },
  {
   "cell_type": "code",
   "id": "7b37e2968ccf6197",
   "metadata": {
    "ExecuteTime": {
     "end_time": "2025-06-27T17:55:14.917916Z",
     "start_time": "2025-06-27T17:55:14.911610Z"
    }
   },
   "source": [
    "len(subseq_result.final_sequence)"
   ],
   "outputs": [
    {
     "data": {
      "text/plain": [
       "1288"
      ]
     },
     "execution_count": 23,
     "metadata": {},
     "output_type": "execute_result"
    }
   ],
   "execution_count": 23
  },
  {
   "cell_type": "code",
   "id": "6e2873ca645e22c4",
   "metadata": {
    "ExecuteTime": {
     "end_time": "2025-06-27T17:55:14.995093Z",
     "start_time": "2025-06-27T17:55:14.987936Z"
    }
   },
   "source": [
    "# remove output if exist\n",
    "import os\n",
    "\n",
    "output_file = get_project_root() / \"inputs/ryr1_rabit_section.txt\"\n",
    "\n",
    "\n",
    "if output_file.exists():\n",
    "    print(f\"{output_file.name} already exists\")\n",
    "    os.remove(output_file)\n",
    "\n",
    "with open(output_file, \"w\") as f:\n",
    "    f.write(subseq_result.final_sequence)"
   ],
   "outputs": [
    {
     "name": "stdout",
     "output_type": "stream",
     "text": [
      "ryr1_rabit_section.txt already exists\n"
     ]
    }
   ],
   "execution_count": 24
  },
  {
   "cell_type": "code",
   "id": "58d5644508ac4e10",
   "metadata": {
    "ExecuteTime": {
     "end_time": "2025-06-27T18:45:59.076503Z",
     "start_time": "2025-06-27T18:45:59.061217Z"
    }
   },
   "source": [
    "ryr1_rabit_base = {\n",
    "    'sequences': [\n",
    "        {\n",
    "            \"protein\": {\n",
    "                \"id\": \"A\",\n",
    "                \"sequence\": subseq_result.final_sequence,\n",
    "            }\n",
    "        },\n",
    "        {\n",
    "            \"ligand\": {\n",
    "                \"id\": \"B\",\n",
    "                \"ccd\": \"CFF\"\n",
    "            }\n",
    "        },\n",
    "        {\n",
    "            \"ligand\": {\n",
    "                \"id\": \"C\",\n",
    "                \"ccd\": \"ATP\"\n",
    "            }\n",
    "        }\n",
    "    ],\n",
    "    \"constraints\": [\n",
    "        {\n",
    "            \"pocket\": {\n",
    "                \"binder\": \"B\",\n",
    "                \"contacts\": [\n",
    "                    [\"A\", p] for p in subseq_result.new_pocket_location[\"cff\"]\n",
    "                ],\n",
    "                \"max_distance\": 3.2, # Angstroms\n",
    "            },\n",
    "\n",
    "        },\n",
    "        {\n",
    "            \"pocket\": {\n",
    "                \"binder\": \"C\",\n",
    "                \"contacts\": [\n",
    "                    [\"A\", p] for p in subseq_result.new_pocket_location[\"atp\"]\n",
    "                ],\n",
    "                \"max_distance\": 5,\n",
    "            }\n",
    "        }\n",
    "    ],\n",
    "    \"properties\": [\n",
    "        {\n",
    "            \"affinity\": {\n",
    "                \"binder\": \"B\"\n",
    "            }\n",
    "        }\n",
    "    ]\n",
    "}\n",
    "\n",
    "import yaml\n",
    "\n",
    "with open(get_project_root() / \"inputs/ryr1_rabit_base.yaml\", \"w\") as f:\n",
    "    yaml.dump(ryr1_rabit_base, f, default_flow_style=False)"
   ],
   "outputs": [],
   "execution_count": 31
  },
  {
   "metadata": {
    "ExecuteTime": {
     "end_time": "2025-06-27T17:55:15.107117Z",
     "start_time": "2025-06-27T17:55:15.103685Z"
    }
   },
   "cell_type": "code",
   "source": "",
   "id": "d9bff84bec3891d8",
   "outputs": [],
   "execution_count": null
  }
 ],
 "metadata": {
  "kernelspec": {
   "display_name": "Python 3",
   "language": "python",
   "name": "python3"
  },
  "language_info": {
   "codemirror_mode": {
    "name": "ipython",
    "version": 2
   },
   "file_extension": ".py",
   "mimetype": "text/x-python",
   "name": "python",
   "nbconvert_exporter": "python",
   "pygments_lexer": "ipython2",
   "version": "2.7.6"
  }
 },
 "nbformat": 4,
 "nbformat_minor": 5
}
