{
 "cells": [
  {
   "cell_type": "code",
   "id": "initial_id",
   "metadata": {
    "collapsed": true,
    "ExecuteTime": {
     "end_time": "2025-07-07T17:36:40.751065Z",
     "start_time": "2025-07-07T17:36:40.710316Z"
    }
   },
   "source": [
    "import json\n",
    "from collections import defaultdict\n",
    "from typing import TypedDict\n",
    "\n",
    "from src.utils import get_project_root\n",
    "\n",
    "with open(\n",
    "        get_project_root() / \"inputs/msa\" / \"ncbiblast-R20250707-171143-0126-58639215-p1m.json\",\n",
    "        \"r\") as f:\n",
    "    # read the whole file\n",
    "    blast_data = json.load(f)\n",
    "\n",
    "str(blast_data)[:500] + \"...\""
   ],
   "outputs": [
    {
     "data": {
      "text/plain": [
       "\"{'program': 'blastp', 'version': 'BLASTP 2.16.0+', 'command': 'singularity exec $APPBIN/singularity/ncbiblast:2.16.0 /ncbiblast/bin/blastp -db &quot;uniprotkb_refprotswissprot&quot; -query ncbiblast-R20250707-171143-0126-58639215-p1m.sequence  -num_threads 32 -outfmt 11 -out ncbiblast-R20250707-171143-0126-58639215-p1m.archive -matrix BLOSUM62 -max_target_seqs 250 -evalue 10 -seg no -comp_based_stats F', 'query_def': 'EMBOSS_001', 'query_stype': 'protein', 'query_len': 976, 'db_count': 1, 'db_nu...\""
      ]
     },
     "execution_count": 8,
     "metadata": {},
     "output_type": "execute_result"
    }
   ],
   "execution_count": 8
  },
  {
   "metadata": {
    "ExecuteTime": {
     "end_time": "2025-07-07T17:37:58.577261Z",
     "start_time": "2025-07-07T17:37:58.551913Z"
    }
   },
   "cell_type": "code",
   "source": [
    "key_types = defaultdict(set)\n",
    "for blast_hit in blast_data[\"hits\"]:\n",
    "    for key, value in blast_hit.items():\n",
    "        key_types[key].add(type(value).__name__)\n",
    "\n",
    "hsps_key_types = defaultdict(set)\n",
    "for blast_hit in blast_data[\"hits\"]:\n",
    "    for hsp in blast_hit[\"hit_hsps\"]:\n",
    "        for key, value in hsp.items():\n",
    "            hsps_key_types[key].add(type(value).__name__)\n",
    "\n",
    "key_types, hsps_key_types"
   ],
   "id": "16b87c3e81e4ae7b",
   "outputs": [
    {
     "data": {
      "text/plain": [
       "(defaultdict(set,\n",
       "             {'hit_num': {'int'},\n",
       "              'hit_def': {'str'},\n",
       "              'hit_db': {'str'},\n",
       "              'hit_id': {'str'},\n",
       "              'hit_acc': {'str'},\n",
       "              'hit_desc': {'str'},\n",
       "              'hit_url': {'str'},\n",
       "              'hit_xref_url': {'str'},\n",
       "              'hit_dbfetch_url': {'str'},\n",
       "              'hit_os': {'str'},\n",
       "              'hit_uni_de': {'str'},\n",
       "              'hit_uni_os': {'str'},\n",
       "              'hit_uni_ox': {'str'},\n",
       "              'hit_uni_pe': {'str'},\n",
       "              'hit_uni_sv': {'str'},\n",
       "              'hit_len': {'int'},\n",
       "              'hit_hsps': {'list'},\n",
       "              'hit_uni_gn': {'str'}}),\n",
       " defaultdict(set,\n",
       "             {'hsp_num': {'int'},\n",
       "              'hsp_score': {'int'},\n",
       "              'hsp_bit_score': {'float'},\n",
       "              'hsp_expect': {'float'},\n",
       "              'hsp_align_len': {'int'},\n",
       "              'hsp_identity': {'float'},\n",
       "              'hsp_positive': {'float'},\n",
       "              'hsp_gaps': {'int'},\n",
       "              'hsp_query_frame': {'str'},\n",
       "              'hsp_hit_frame': {'str'},\n",
       "              'hsp_strand': {'str'},\n",
       "              'hsp_query_from': {'int'},\n",
       "              'hsp_query_to': {'int'},\n",
       "              'hsp_hit_from': {'int'},\n",
       "              'hsp_hit_to': {'int'},\n",
       "              'hsp_qseq': {'str'},\n",
       "              'hsp_mseq': {'str'},\n",
       "              'hsp_hseq': {'str'}}))"
      ]
     },
     "execution_count": 10,
     "metadata": {},
     "output_type": "execute_result"
    }
   ],
   "execution_count": 10
  },
  {
   "metadata": {
    "ExecuteTime": {
     "end_time": "2025-07-07T17:39:42.057401Z",
     "start_time": "2025-07-07T17:39:42.031364Z"
    }
   },
   "cell_type": "code",
   "source": [
    "from pydantic import BaseModel\n",
    "\n",
    "\n",
    "class HitHsps(BaseModel):\n",
    "    hsp_num: int\n",
    "    hsp_score: float\n",
    "    hsp_bit_score: float\n",
    "    hsp_expect: float\n",
    "    hsp_align_len: int\n",
    "    hsp_identity: float\n",
    "    hsp_positive: float\n",
    "    hsp_gaps: int\n",
    "    hsp_query_frame: str\n",
    "    hsp_hit_frame: str\n",
    "    hsp_strand: str\n",
    "    hsp_query_from: int\n",
    "    hsp_query_to: int\n",
    "    hsp_hit_from: int\n",
    "    hsp_hit_to: int\n",
    "    hsp_qseq: str\n",
    "    hsp_mseq: str\n",
    "    hsp_hseq: str\n",
    "\n",
    "\n",
    "class BlastHit(BaseModel):\n",
    "    hit_num: int\n",
    "    hit_def: str\n",
    "    hit_db: str\n",
    "    hit_id: str\n",
    "    hit_acc: str\n",
    "    hit_desc: str\n",
    "    hit_url: str\n",
    "    hit_xref_url: str\n",
    "    hit_dbfetch_url: str\n",
    "    hit_os: str\n",
    "    hit_uni_de: str\n",
    "    hit_uni_os: str\n",
    "    hit_uni_ox: str\n",
    "    hit_uni_pe: str | None = None\n",
    "    hit_uni_sv: str | None = None\n",
    "    hit_len: int\n",
    "    hit_hsps: list[HitHsps]\n",
    "    hit_uni_gen: str | None = None\n",
    "\n",
    "\n",
    "blast_hits = [\n",
    "    BlastHit(**hit)\n",
    "    for hit in blast_data[\"hits\"]\n",
    "]"
   ],
   "id": "161d2293f2569c76",
   "outputs": [],
   "execution_count": 14
  },
  {
   "metadata": {},
   "cell_type": "code",
   "outputs": [],
   "execution_count": null,
   "source": [
    "# def blast_to_fastfa(\n",
    "#         hits: list[BlastHit],\n",
    "# ):\n",
    "#     base_sequence = hits[0].hit_hsps[0].hsp_qseq\n",
    "#\n",
    "#     fastfa = []\n",
    "#\n",
    "#     fastfa.append(f\"# BLAST hits: {len(hits)}\")\n",
    "#     fastfa.append(f\">query\\n{}\")\n",
    "#     out.write(f\">{query_name}\\n{query_seq}\\n\")\n",
    "#\n",
    "#\n",
    "# for hit in hits:\n",
    "#     if not hit.hit_hsps:\n",
    "#         continue\n",
    "#     hsp = hit.hit_hsps[0]\n",
    "#     out.write(f\">{hit.hit_id}\\n{hsp.hsp_hseq}\\n\")"
   ],
   "id": "fcd467f30ebc8f60"
  },
  {
   "metadata": {},
   "cell_type": "code",
   "outputs": [],
   "execution_count": null,
   "source": [
    "# with open(\n",
    "#     get_project_root() / \"inputs\" / \"ryr1_rabit_blast\"\n",
    "# )"
   ],
   "id": "cb05b3fb60ee267c"
  }
 ],
 "metadata": {
  "kernelspec": {
   "display_name": "Python 3",
   "language": "python",
   "name": "python3"
  },
  "language_info": {
   "codemirror_mode": {
    "name": "ipython",
    "version": 2
   },
   "file_extension": ".py",
   "mimetype": "text/x-python",
   "name": "python",
   "nbconvert_exporter": "python",
   "pygments_lexer": "ipython2",
   "version": "2.7.6"
  }
 },
 "nbformat": 4,
 "nbformat_minor": 5
}
